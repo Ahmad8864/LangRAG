{
 "cells": [
  {
   "cell_type": "code",
   "execution_count": null,
   "id": "0e533c51",
   "metadata": {},
   "outputs": [],
   "source": [
    "# https://docs.llamaindex.ai/en/stable/examples/query_engine/pdf_tables/recursive_retriever/\n",
    "from llama_index.embeddings.langchain import LangchainEmbedding\n",
    "from langchain_google_genai import GoogleGenerativeAIEmbeddings"
   ]
  },
  {
   "cell_type": "code",
   "execution_count": 6,
   "id": "2ba4e0d3",
   "metadata": {},
   "outputs": [],
   "source": [
    "import camelot\n",
    "\n",
    "from llama_index.core import VectorStoreIndex\n",
    "from llama_index.experimental.query_engine import PandasQueryEngine\n",
    "from llama_index.core.schema import IndexNode\n",
    "from llama_index.llms.google_genai import GoogleGenAI\n",
    "\n",
    "from llama_index.readers.file import PyMuPDFReader\n",
    "from typing import List"
   ]
  },
  {
   "cell_type": "code",
   "execution_count": 7,
   "id": "2c03d03a",
   "metadata": {},
   "outputs": [
    {
     "name": "stdout",
     "output_type": "stream",
     "text": [
      "INFO:httpx:HTTP Request: GET https://generativelanguage.googleapis.com/v1beta/models/gemini-2.0-flash \"HTTP/1.1 200 OK\"\n",
      "HTTP Request: GET https://generativelanguage.googleapis.com/v1beta/models/gemini-2.0-flash \"HTTP/1.1 200 OK\"\n"
     ]
    }
   ],
   "source": [
    "from llama_index.core import Settings\n",
    "\n",
    "google_embedding = GoogleGenerativeAIEmbeddings(model='models/embedding-001')\n",
    "embed_model = LangchainEmbedding(google_embedding)\n",
    "\n",
    "Settings.llm = GoogleGenAI('gemini-2.0-flash')\n",
    "Settings.embed_model = embed_model"
   ]
  },
  {
   "cell_type": "code",
   "execution_count": 8,
   "id": "968e910a",
   "metadata": {},
   "outputs": [],
   "source": [
    "file = 'billionaires.pdf'\n",
    "\n",
    "reader = PyMuPDFReader()\n",
    "docs = reader.load_data(file)"
   ]
  },
  {
   "cell_type": "code",
   "execution_count": 16,
   "id": "8d0c397f",
   "metadata": {},
   "outputs": [],
   "source": [
    "def get_tables(path: str, pages: List[int]):\n",
    "    table_dfs = []\n",
    "\n",
    "    for page in pages:\n",
    "        table_list = camelot.read_pdf(path, pages = str(page))\n",
    "        table_df = table_list[0].df\n",
    "        table_df = (\n",
    "            table_df.rename(columns = table_df.iloc[0])\n",
    "            .drop(table_df.index[0])\n",
    "            .reset_index(drop=True)\n",
    "        )\n",
    "        table_dfs.append(table_df)\n",
    "    \n",
    "    return table_dfs"
   ]
  },
  {
   "cell_type": "code",
   "execution_count": 25,
   "id": "834b9355",
   "metadata": {},
   "outputs": [
    {
     "name": "stdout",
     "output_type": "stream",
     "text": [
      "WARNING:pypdf._reader:Ignoring wrong pointing object 14 0 (offset 0)\n",
      "Ignoring wrong pointing object 14 0 (offset 0)\n",
      "WARNING:pypdf._reader:Ignoring wrong pointing object 63 0 (offset 0)\n",
      "Ignoring wrong pointing object 63 0 (offset 0)\n",
      "WARNING:pypdf._reader:Ignoring wrong pointing object 87 0 (offset 0)\n",
      "Ignoring wrong pointing object 87 0 (offset 0)\n",
      "WARNING:pypdf._reader:Ignoring wrong pointing object 14 0 (offset 0)\n",
      "Ignoring wrong pointing object 14 0 (offset 0)\n",
      "WARNING:pypdf._reader:Ignoring wrong pointing object 63 0 (offset 0)\n",
      "Ignoring wrong pointing object 63 0 (offset 0)\n",
      "WARNING:pypdf._reader:Ignoring wrong pointing object 87 0 (offset 0)\n",
      "Ignoring wrong pointing object 87 0 (offset 0)\n",
      "WARNING:pypdf._reader:Ignoring wrong pointing object 14 0 (offset 0)\n",
      "Ignoring wrong pointing object 14 0 (offset 0)\n",
      "WARNING:pypdf._reader:Ignoring wrong pointing object 63 0 (offset 0)\n",
      "Ignoring wrong pointing object 63 0 (offset 0)\n",
      "WARNING:pypdf._reader:Ignoring wrong pointing object 87 0 (offset 0)\n",
      "Ignoring wrong pointing object 87 0 (offset 0)\n",
      "WARNING:pypdf._reader:Ignoring wrong pointing object 14 0 (offset 0)\n",
      "Ignoring wrong pointing object 14 0 (offset 0)\n",
      "WARNING:pypdf._reader:Ignoring wrong pointing object 63 0 (offset 0)\n",
      "Ignoring wrong pointing object 63 0 (offset 0)\n",
      "WARNING:pypdf._reader:Ignoring wrong pointing object 87 0 (offset 0)\n",
      "Ignoring wrong pointing object 87 0 (offset 0)\n"
     ]
    }
   ],
   "source": [
    "table_dfs = get_tables(file, [3, 34])"
   ]
  },
  {
   "cell_type": "code",
   "execution_count": 18,
   "id": "d1818758",
   "metadata": {},
   "outputs": [
    {
     "data": {
      "application/vnd.microsoft.datawrangler.viewer.v0+json": {
       "columns": [
        {
         "name": "index",
         "rawType": "int64",
         "type": "integer"
        },
        {
         "name": "No.",
         "rawType": "object",
         "type": "string"
        },
        {
         "name": "Name",
         "rawType": "object",
         "type": "string"
        },
        {
         "name": "Net worth\n(USD)",
         "rawType": "object",
         "type": "string"
        },
        {
         "name": "Age",
         "rawType": "object",
         "type": "string"
        },
        {
         "name": "Nationality",
         "rawType": "object",
         "type": "string"
        },
        {
         "name": "Primary source(s) of\nwealth",
         "rawType": "object",
         "type": "string"
        }
       ],
       "ref": "1236842c-2c12-4558-9e6f-bf647f1bc78d",
       "rows": [
        [
         "0",
         "1",
         "Elon Musk",
         "$342 billion",
         "53",
         "South Africa\n Canada\n United\nStates",
         "Tesla, SpaceX"
        ],
        [
         "1",
         "2",
         "Mark Zuckerberg",
         "$216 billion",
         "40",
         "United\nStates",
         "Meta Platforms"
        ],
        [
         "2",
         "3",
         "Jeff Bezos",
         "$215 billion",
         "61",
         "United\nStates",
         "Amazon"
        ],
        [
         "3",
         "4",
         "Larry Ellison",
         "$192 billion",
         "80",
         "United\nStates",
         "Oracle Corporation"
        ],
        [
         "4",
         "5",
         "Bernard Arnault &\nfamily",
         "$178 billion",
         "76",
         "France",
         "LVMH"
        ],
        [
         "5",
         "6",
         "Warren Buffett",
         "$154 billion",
         "94",
         "United\nStates",
         "Berkshire Hathaway"
        ],
        [
         "6",
         "7",
         "Larry Page",
         "$144 billion",
         "52",
         "United\nStates",
         "Google"
        ],
        [
         "7",
         "8",
         "Sergey Brin",
         "$138 billion",
         "51",
         "United\nStates",
         "Google"
        ],
        [
         "8",
         "9",
         "Amancio Ortega",
         "$124 billion",
         "89",
         "Spain",
         "Inditex, Zara"
        ],
        [
         "9",
         "10",
         "Steve Ballmer",
         "$118 billion",
         "69",
         "United\nStates",
         "Microsoft"
        ]
       ],
       "shape": {
        "columns": 6,
        "rows": 10
       }
      },
      "text/html": [
       "<div>\n",
       "<style scoped>\n",
       "    .dataframe tbody tr th:only-of-type {\n",
       "        vertical-align: middle;\n",
       "    }\n",
       "\n",
       "    .dataframe tbody tr th {\n",
       "        vertical-align: top;\n",
       "    }\n",
       "\n",
       "    .dataframe thead th {\n",
       "        text-align: right;\n",
       "    }\n",
       "</style>\n",
       "<table border=\"1\" class=\"dataframe\">\n",
       "  <thead>\n",
       "    <tr style=\"text-align: right;\">\n",
       "      <th></th>\n",
       "      <th>No.</th>\n",
       "      <th>Name</th>\n",
       "      <th>Net worth\\n(USD)</th>\n",
       "      <th>Age</th>\n",
       "      <th>Nationality</th>\n",
       "      <th>Primary source(s) of\\nwealth</th>\n",
       "    </tr>\n",
       "  </thead>\n",
       "  <tbody>\n",
       "    <tr>\n",
       "      <th>0</th>\n",
       "      <td>1</td>\n",
       "      <td>Elon Musk</td>\n",
       "      <td>$342 billion</td>\n",
       "      <td>53</td>\n",
       "      <td>South Africa\\n Canada\\n United\\nStates</td>\n",
       "      <td>Tesla, SpaceX</td>\n",
       "    </tr>\n",
       "    <tr>\n",
       "      <th>1</th>\n",
       "      <td>2</td>\n",
       "      <td>Mark Zuckerberg</td>\n",
       "      <td>$216 billion</td>\n",
       "      <td>40</td>\n",
       "      <td>United\\nStates</td>\n",
       "      <td>Meta Platforms</td>\n",
       "    </tr>\n",
       "    <tr>\n",
       "      <th>2</th>\n",
       "      <td>3</td>\n",
       "      <td>Jeff Bezos</td>\n",
       "      <td>$215 billion</td>\n",
       "      <td>61</td>\n",
       "      <td>United\\nStates</td>\n",
       "      <td>Amazon</td>\n",
       "    </tr>\n",
       "    <tr>\n",
       "      <th>3</th>\n",
       "      <td>4</td>\n",
       "      <td>Larry Ellison</td>\n",
       "      <td>$192 billion</td>\n",
       "      <td>80</td>\n",
       "      <td>United\\nStates</td>\n",
       "      <td>Oracle Corporation</td>\n",
       "    </tr>\n",
       "    <tr>\n",
       "      <th>4</th>\n",
       "      <td>5</td>\n",
       "      <td>Bernard Arnault &amp;\\nfamily</td>\n",
       "      <td>$178 billion</td>\n",
       "      <td>76</td>\n",
       "      <td>France</td>\n",
       "      <td>LVMH</td>\n",
       "    </tr>\n",
       "    <tr>\n",
       "      <th>5</th>\n",
       "      <td>6</td>\n",
       "      <td>Warren Buffett</td>\n",
       "      <td>$154 billion</td>\n",
       "      <td>94</td>\n",
       "      <td>United\\nStates</td>\n",
       "      <td>Berkshire Hathaway</td>\n",
       "    </tr>\n",
       "    <tr>\n",
       "      <th>6</th>\n",
       "      <td>7</td>\n",
       "      <td>Larry Page</td>\n",
       "      <td>$144 billion</td>\n",
       "      <td>52</td>\n",
       "      <td>United\\nStates</td>\n",
       "      <td>Google</td>\n",
       "    </tr>\n",
       "    <tr>\n",
       "      <th>7</th>\n",
       "      <td>8</td>\n",
       "      <td>Sergey Brin</td>\n",
       "      <td>$138 billion</td>\n",
       "      <td>51</td>\n",
       "      <td>United\\nStates</td>\n",
       "      <td>Google</td>\n",
       "    </tr>\n",
       "    <tr>\n",
       "      <th>8</th>\n",
       "      <td>9</td>\n",
       "      <td>Amancio Ortega</td>\n",
       "      <td>$124 billion</td>\n",
       "      <td>89</td>\n",
       "      <td>Spain</td>\n",
       "      <td>Inditex, Zara</td>\n",
       "    </tr>\n",
       "    <tr>\n",
       "      <th>9</th>\n",
       "      <td>10</td>\n",
       "      <td>Steve Ballmer</td>\n",
       "      <td>$118 billion</td>\n",
       "      <td>69</td>\n",
       "      <td>United\\nStates</td>\n",
       "      <td>Microsoft</td>\n",
       "    </tr>\n",
       "  </tbody>\n",
       "</table>\n",
       "</div>"
      ],
      "text/plain": [
       "  No.                       Name Net worth\\n(USD) Age  \\\n",
       "0   1                  Elon Musk     $342 billion  53   \n",
       "1   2            Mark Zuckerberg     $216 billion  40   \n",
       "2   3                 Jeff Bezos     $215 billion  61   \n",
       "3   4              Larry Ellison     $192 billion  80   \n",
       "4   5  Bernard Arnault &\\nfamily     $178 billion  76   \n",
       "5   6             Warren Buffett     $154 billion  94   \n",
       "6   7                 Larry Page     $144 billion  52   \n",
       "7   8                Sergey Brin     $138 billion  51   \n",
       "8   9             Amancio Ortega     $124 billion  89   \n",
       "9  10              Steve Ballmer     $118 billion  69   \n",
       "\n",
       "                              Nationality Primary source(s) of\\nwealth  \n",
       "0  South Africa\\n Canada\\n United\\nStates                Tesla, SpaceX  \n",
       "1                          United\\nStates               Meta Platforms  \n",
       "2                          United\\nStates                       Amazon  \n",
       "3                          United\\nStates           Oracle Corporation  \n",
       "4                                  France                         LVMH  \n",
       "5                          United\\nStates           Berkshire Hathaway  \n",
       "6                          United\\nStates                       Google  \n",
       "7                          United\\nStates                       Google  \n",
       "8                                   Spain                Inditex, Zara  \n",
       "9                          United\\nStates                    Microsoft  "
      ]
     },
     "execution_count": 18,
     "metadata": {},
     "output_type": "execute_result"
    }
   ],
   "source": [
    "table_dfs[0]"
   ]
  },
  {
   "cell_type": "code",
   "execution_count": 26,
   "id": "a49478c9",
   "metadata": {},
   "outputs": [
    {
     "data": {
      "application/vnd.microsoft.datawrangler.viewer.v0+json": {
       "columns": [
        {
         "name": "index",
         "rawType": "int64",
         "type": "integer"
        },
        {
         "name": "Year",
         "rawType": "object",
         "type": "string"
        },
        {
         "name": "Number of billionaires",
         "rawType": "object",
         "type": "string"
        },
        {
         "name": "Group's combined net worth",
         "rawType": "object",
         "type": "string"
        }
       ],
       "ref": "753ca1b2-73d8-4419-bdf3-02d866440ce5",
       "rows": [
        [
         "0",
         "2025[2]",
         "3,028",
         "$16.1 trillion"
        ],
        [
         "1",
         "2024[2]",
         "2,781",
         "$14.2 trillion"
        ],
        [
         "2",
         "2023[8]",
         "2,640",
         "$12.2 trillion"
        ],
        [
         "3",
         "2022[7]",
         "2,668",
         "$12.7 trillion"
        ],
        [
         "4",
         "2021[13]",
         "2,755",
         "$13.1 trillion"
        ],
        [
         "5",
         "2020",
         "2,095",
         "$8.0 trillion"
        ],
        [
         "6",
         "2019",
         "2,153",
         "$8.7 trillion"
        ],
        [
         "7",
         "2018",
         "2,208",
         "$9.1 trillion"
        ],
        [
         "8",
         "2017",
         "2,043",
         "$7.7 trillion"
        ],
        [
         "9",
         "2016",
         "1,810",
         "$6.5 trillion"
        ],
        [
         "10",
         "2015[20]",
         "1,826",
         "$7.1 trillion"
        ],
        [
         "11",
         "2014[69]",
         "1,645",
         "$6.4 trillion"
        ],
        [
         "12",
         "2013[70]",
         "1,426",
         "$5.4 trillion"
        ],
        [
         "13",
         "2012",
         "1,226",
         "$4.6 trillion"
        ],
        [
         "14",
         "2011",
         "1,210",
         "$4.5 trillion"
        ],
        [
         "15",
         "2010",
         "1,011",
         "$3.6 trillion"
        ],
        [
         "16",
         "2009",
         "793",
         "$2.4 trillion"
        ],
        [
         "17",
         "2008",
         "1,125",
         "$4.4 trillion"
        ],
        [
         "18",
         "2007",
         "946",
         "$3.5 trillion"
        ],
        [
         "19",
         "2006",
         "793",
         "$2.6 trillion"
        ],
        [
         "20",
         "2005",
         "691",
         "$2.2 trillion"
        ],
        [
         "21",
         "2004",
         "587",
         "$1.9 trillion"
        ],
        [
         "22",
         "2003",
         "476",
         "$1.4 trillion"
        ],
        [
         "23",
         "2002",
         "497",
         "$1.5 trillion"
        ],
        [
         "24",
         "2001",
         "538",
         "$1.8 trillion"
        ],
        [
         "25",
         "2000",
         "470",
         "$898 billion"
        ],
        [
         "26",
         "Sources: Forbes.[20][69][68][70]",
         "",
         ""
        ]
       ],
       "shape": {
        "columns": 3,
        "rows": 27
       }
      },
      "text/html": [
       "<div>\n",
       "<style scoped>\n",
       "    .dataframe tbody tr th:only-of-type {\n",
       "        vertical-align: middle;\n",
       "    }\n",
       "\n",
       "    .dataframe tbody tr th {\n",
       "        vertical-align: top;\n",
       "    }\n",
       "\n",
       "    .dataframe thead th {\n",
       "        text-align: right;\n",
       "    }\n",
       "</style>\n",
       "<table border=\"1\" class=\"dataframe\">\n",
       "  <thead>\n",
       "    <tr style=\"text-align: right;\">\n",
       "      <th></th>\n",
       "      <th>Year</th>\n",
       "      <th>Number of billionaires</th>\n",
       "      <th>Group's combined net worth</th>\n",
       "    </tr>\n",
       "  </thead>\n",
       "  <tbody>\n",
       "    <tr>\n",
       "      <th>0</th>\n",
       "      <td>2025[2]</td>\n",
       "      <td>3,028</td>\n",
       "      <td>$16.1 trillion</td>\n",
       "    </tr>\n",
       "    <tr>\n",
       "      <th>1</th>\n",
       "      <td>2024[2]</td>\n",
       "      <td>2,781</td>\n",
       "      <td>$14.2 trillion</td>\n",
       "    </tr>\n",
       "    <tr>\n",
       "      <th>2</th>\n",
       "      <td>2023[8]</td>\n",
       "      <td>2,640</td>\n",
       "      <td>$12.2 trillion</td>\n",
       "    </tr>\n",
       "    <tr>\n",
       "      <th>3</th>\n",
       "      <td>2022[7]</td>\n",
       "      <td>2,668</td>\n",
       "      <td>$12.7 trillion</td>\n",
       "    </tr>\n",
       "    <tr>\n",
       "      <th>4</th>\n",
       "      <td>2021[13]</td>\n",
       "      <td>2,755</td>\n",
       "      <td>$13.1 trillion</td>\n",
       "    </tr>\n",
       "    <tr>\n",
       "      <th>5</th>\n",
       "      <td>2020</td>\n",
       "      <td>2,095</td>\n",
       "      <td>$8.0 trillion</td>\n",
       "    </tr>\n",
       "    <tr>\n",
       "      <th>6</th>\n",
       "      <td>2019</td>\n",
       "      <td>2,153</td>\n",
       "      <td>$8.7 trillion</td>\n",
       "    </tr>\n",
       "    <tr>\n",
       "      <th>7</th>\n",
       "      <td>2018</td>\n",
       "      <td>2,208</td>\n",
       "      <td>$9.1 trillion</td>\n",
       "    </tr>\n",
       "    <tr>\n",
       "      <th>8</th>\n",
       "      <td>2017</td>\n",
       "      <td>2,043</td>\n",
       "      <td>$7.7 trillion</td>\n",
       "    </tr>\n",
       "    <tr>\n",
       "      <th>9</th>\n",
       "      <td>2016</td>\n",
       "      <td>1,810</td>\n",
       "      <td>$6.5 trillion</td>\n",
       "    </tr>\n",
       "    <tr>\n",
       "      <th>10</th>\n",
       "      <td>2015[20]</td>\n",
       "      <td>1,826</td>\n",
       "      <td>$7.1 trillion</td>\n",
       "    </tr>\n",
       "    <tr>\n",
       "      <th>11</th>\n",
       "      <td>2014[69]</td>\n",
       "      <td>1,645</td>\n",
       "      <td>$6.4 trillion</td>\n",
       "    </tr>\n",
       "    <tr>\n",
       "      <th>12</th>\n",
       "      <td>2013[70]</td>\n",
       "      <td>1,426</td>\n",
       "      <td>$5.4 trillion</td>\n",
       "    </tr>\n",
       "    <tr>\n",
       "      <th>13</th>\n",
       "      <td>2012</td>\n",
       "      <td>1,226</td>\n",
       "      <td>$4.6 trillion</td>\n",
       "    </tr>\n",
       "    <tr>\n",
       "      <th>14</th>\n",
       "      <td>2011</td>\n",
       "      <td>1,210</td>\n",
       "      <td>$4.5 trillion</td>\n",
       "    </tr>\n",
       "    <tr>\n",
       "      <th>15</th>\n",
       "      <td>2010</td>\n",
       "      <td>1,011</td>\n",
       "      <td>$3.6 trillion</td>\n",
       "    </tr>\n",
       "    <tr>\n",
       "      <th>16</th>\n",
       "      <td>2009</td>\n",
       "      <td>793</td>\n",
       "      <td>$2.4 trillion</td>\n",
       "    </tr>\n",
       "    <tr>\n",
       "      <th>17</th>\n",
       "      <td>2008</td>\n",
       "      <td>1,125</td>\n",
       "      <td>$4.4 trillion</td>\n",
       "    </tr>\n",
       "    <tr>\n",
       "      <th>18</th>\n",
       "      <td>2007</td>\n",
       "      <td>946</td>\n",
       "      <td>$3.5 trillion</td>\n",
       "    </tr>\n",
       "    <tr>\n",
       "      <th>19</th>\n",
       "      <td>2006</td>\n",
       "      <td>793</td>\n",
       "      <td>$2.6 trillion</td>\n",
       "    </tr>\n",
       "    <tr>\n",
       "      <th>20</th>\n",
       "      <td>2005</td>\n",
       "      <td>691</td>\n",
       "      <td>$2.2 trillion</td>\n",
       "    </tr>\n",
       "    <tr>\n",
       "      <th>21</th>\n",
       "      <td>2004</td>\n",
       "      <td>587</td>\n",
       "      <td>$1.9 trillion</td>\n",
       "    </tr>\n",
       "    <tr>\n",
       "      <th>22</th>\n",
       "      <td>2003</td>\n",
       "      <td>476</td>\n",
       "      <td>$1.4 trillion</td>\n",
       "    </tr>\n",
       "    <tr>\n",
       "      <th>23</th>\n",
       "      <td>2002</td>\n",
       "      <td>497</td>\n",
       "      <td>$1.5 trillion</td>\n",
       "    </tr>\n",
       "    <tr>\n",
       "      <th>24</th>\n",
       "      <td>2001</td>\n",
       "      <td>538</td>\n",
       "      <td>$1.8 trillion</td>\n",
       "    </tr>\n",
       "    <tr>\n",
       "      <th>25</th>\n",
       "      <td>2000</td>\n",
       "      <td>470</td>\n",
       "      <td>$898 billion</td>\n",
       "    </tr>\n",
       "    <tr>\n",
       "      <th>26</th>\n",
       "      <td>Sources: Forbes.[20][69][68][70]</td>\n",
       "      <td></td>\n",
       "      <td></td>\n",
       "    </tr>\n",
       "  </tbody>\n",
       "</table>\n",
       "</div>"
      ],
      "text/plain": [
       "                                Year Number of billionaires  \\\n",
       "0                            2025[2]                  3,028   \n",
       "1                            2024[2]                  2,781   \n",
       "2                            2023[8]                  2,640   \n",
       "3                            2022[7]                  2,668   \n",
       "4                           2021[13]                  2,755   \n",
       "5                               2020                  2,095   \n",
       "6                               2019                  2,153   \n",
       "7                               2018                  2,208   \n",
       "8                               2017                  2,043   \n",
       "9                               2016                  1,810   \n",
       "10                          2015[20]                  1,826   \n",
       "11                          2014[69]                  1,645   \n",
       "12                          2013[70]                  1,426   \n",
       "13                              2012                  1,226   \n",
       "14                              2011                  1,210   \n",
       "15                              2010                  1,011   \n",
       "16                              2009                    793   \n",
       "17                              2008                  1,125   \n",
       "18                              2007                    946   \n",
       "19                              2006                    793   \n",
       "20                              2005                    691   \n",
       "21                              2004                    587   \n",
       "22                              2003                    476   \n",
       "23                              2002                    497   \n",
       "24                              2001                    538   \n",
       "25                              2000                    470   \n",
       "26  Sources: Forbes.[20][69][68][70]                          \n",
       "\n",
       "   Group's combined net worth  \n",
       "0              $16.1 trillion  \n",
       "1              $14.2 trillion  \n",
       "2              $12.2 trillion  \n",
       "3              $12.7 trillion  \n",
       "4              $13.1 trillion  \n",
       "5               $8.0 trillion  \n",
       "6               $8.7 trillion  \n",
       "7               $9.1 trillion  \n",
       "8               $7.7 trillion  \n",
       "9               $6.5 trillion  \n",
       "10              $7.1 trillion  \n",
       "11              $6.4 trillion  \n",
       "12              $5.4 trillion  \n",
       "13              $4.6 trillion  \n",
       "14              $4.5 trillion  \n",
       "15              $3.6 trillion  \n",
       "16              $2.4 trillion  \n",
       "17              $4.4 trillion  \n",
       "18              $3.5 trillion  \n",
       "19              $2.6 trillion  \n",
       "20              $2.2 trillion  \n",
       "21              $1.9 trillion  \n",
       "22              $1.4 trillion  \n",
       "23              $1.5 trillion  \n",
       "24              $1.8 trillion  \n",
       "25               $898 billion  \n",
       "26                             "
      ]
     },
     "execution_count": 26,
     "metadata": {},
     "output_type": "execute_result"
    }
   ],
   "source": [
    "table_dfs[1]"
   ]
  },
  {
   "cell_type": "code",
   "execution_count": 27,
   "id": "49227ca4",
   "metadata": {},
   "outputs": [
    {
     "name": "stdout",
     "output_type": "stream",
     "text": [
      "INFO:httpx:HTTP Request: GET https://generativelanguage.googleapis.com/v1beta/models/gemini-2.0-flash \"HTTP/1.1 200 OK\"\n",
      "HTTP Request: GET https://generativelanguage.googleapis.com/v1beta/models/gemini-2.0-flash \"HTTP/1.1 200 OK\"\n"
     ]
    }
   ],
   "source": [
    "llm = GoogleGenAI(model='gemini-2.0-flash')\n",
    "\n",
    "df_query_engines = [\n",
    "    PandasQueryEngine(table, llm = llm) for table in table_dfs\n",
    "]"
   ]
  },
  {
   "cell_type": "code",
   "execution_count": 22,
   "id": "aa52322d",
   "metadata": {},
   "outputs": [
    {
     "name": "stdout",
     "output_type": "stream",
     "text": [
      "INFO:google_genai.models:AFC is enabled with max remote calls: 10.\n",
      "AFC is enabled with max remote calls: 10.\n",
      "INFO:httpx:HTTP Request: POST https://generativelanguage.googleapis.com/v1beta/models/gemini-2.0-flash:generateContent \"HTTP/1.1 200 OK\"\n",
      "HTTP Request: POST https://generativelanguage.googleapis.com/v1beta/models/gemini-2.0-flash:generateContent \"HTTP/1.1 200 OK\"\n",
      "INFO:google_genai.models:AFC remote call 1 is done.\n",
      "AFC remote call 1 is done.\n",
      "$154 billion\n"
     ]
    }
   ],
   "source": [
    "response = df_query_engines[0].query(\n",
    "    \"What's the net worth of the man from Omaha?\"\n",
    ")\n",
    "print(str(response))"
   ]
  },
  {
   "cell_type": "code",
   "execution_count": 28,
   "id": "cc614d98",
   "metadata": {},
   "outputs": [
    {
     "name": "stdout",
     "output_type": "stream",
     "text": [
      "INFO:google_genai.models:AFC is enabled with max remote calls: 10.\n",
      "AFC is enabled with max remote calls: 10.\n",
      "INFO:httpx:HTTP Request: POST https://generativelanguage.googleapis.com/v1beta/models/gemini-2.0-flash:generateContent \"HTTP/1.1 200 OK\"\n",
      "HTTP Request: POST https://generativelanguage.googleapis.com/v1beta/models/gemini-2.0-flash:generateContent \"HTTP/1.1 200 OK\"\n",
      "INFO:google_genai.models:AFC remote call 1 is done.\n",
      "AFC remote call 1 is done.\n",
      "793\n"
     ]
    }
   ],
   "source": [
    "response = df_query_engines[1].query(\n",
    "    \"How many billionaires were there in 2009?\"\n",
    ")\n",
    "print(str(response))"
   ]
  },
  {
   "cell_type": "code",
   "execution_count": 29,
   "id": "53f64b36",
   "metadata": {},
   "outputs": [],
   "source": [
    "doc_nodes = Settings.node_parser.get_nodes_from_documents(docs)"
   ]
  },
  {
   "cell_type": "code",
   "execution_count": 30,
   "id": "ec6b0cbe",
   "metadata": {},
   "outputs": [],
   "source": [
    "summaries = [\n",
    "    (\n",
    "        \"This node provides information about the world's richest billionaires\"\n",
    "        \" in 2023\"\n",
    "    ),\n",
    "    (\n",
    "        \"This node provides information on the number of billionaires and\"\n",
    "        \" their combined net worth from 2000 to 2023.\"\n",
    "    ),\n",
    "]\n",
    "df_nodes = [\n",
    "    IndexNode(\n",
    "        text = summary,\n",
    "        index_id = f\"pandas{i}\"\n",
    "    )\n",
    "    for i, summary in enumerate(summaries)\n",
    "\n",
    "]\n",
    "df_id_query_engine_mapping = {\n",
    "    f\"pandas{i}\" : df_query_engines[i]\n",
    "    for i in range(len(df_query_engines))\n",
    "}"
   ]
  },
  {
   "cell_type": "code",
   "execution_count": 31,
   "id": "665e4428",
   "metadata": {},
   "outputs": [],
   "source": [
    "vector_index = VectorStoreIndex(doc_nodes + df_nodes)\n",
    "vector_retriever = vector_index.as_retriever(similarity_top_k = 1)"
   ]
  },
  {
   "cell_type": "code",
   "execution_count": 32,
   "id": "a4e232a4",
   "metadata": {},
   "outputs": [],
   "source": [
    "vector_index0 = VectorStoreIndex(doc_nodes)\n",
    "vector_query_engine0 = vector_index0.as_query_engine()"
   ]
  },
  {
   "cell_type": "code",
   "execution_count": 33,
   "id": "a584f345",
   "metadata": {},
   "outputs": [],
   "source": [
    "from llama_index.core.retrievers import RecursiveRetriever\n",
    "from llama_index.core.query_engine import RetrieverQueryEngine\n",
    "from llama_index.core import get_response_synthesizer"
   ]
  },
  {
   "cell_type": "code",
   "execution_count": 34,
   "id": "9d623d0b",
   "metadata": {},
   "outputs": [],
   "source": [
    "recursive_retriever = RecursiveRetriever(\n",
    "    \"vector\",\n",
    "    retriever_dict= {\n",
    "        \"vector\": vector_retriever\n",
    "    },\n",
    "    query_engine_dict=df_id_query_engine_mapping,\n",
    "    verbose = True,\n",
    ")\n",
    "\n",
    "response_synthesizer = get_response_synthesizer(response_mode = \"compact\")\n",
    "\n",
    "query_engine = RetrieverQueryEngine(\n",
    "    recursive_retriever,\n",
    "    response_synthesizer = response_synthesizer,\n",
    ")"
   ]
  },
  {
   "cell_type": "code",
   "execution_count": 35,
   "id": "78c6be50",
   "metadata": {},
   "outputs": [
    {
     "name": "stdout",
     "output_type": "stream",
     "text": [
      "\u001b[1;3;34mRetrieving with query id None: What's the net worth of 2025 billionaires?\n",
      "\u001b[0m\u001b[1;3;38;5;200mRetrieving text node: 6/16/25, 12:50\n",
      "The World's Billionaires - Wikipedia\n",
      "Page 34 of 43\n",
      "https://en.wikipedia.org/wiki/The_World%27s_Billionaires\n",
      "Number and combined net worth of billionaires by year[68]\n",
      "Year\n",
      "Number of billionaires\n",
      "Group's combined net worth\n",
      "2025[2]\n",
      "3,028\n",
      "$16.1 trillion\n",
      "2024[2]\n",
      "2,781\n",
      "$14.2 trillion\n",
      "2023[8]\n",
      "2,640\n",
      "$12.2 trillion\n",
      "2022[7]\n",
      "2,668\n",
      "$12.7 trillion\n",
      "2021[13]\n",
      "2,755\n",
      "$13.1 trillion\n",
      "2020\n",
      "2,095\n",
      "$8.0 trillion\n",
      "2019\n",
      "2,153\n",
      "$8.7 trillion\n",
      "2018\n",
      "2,208\n",
      "$9.1 trillion\n",
      "2017\n",
      "2,043\n",
      "$7.7 trillion\n",
      "2016\n",
      "1,810\n",
      "$6.5 trillion\n",
      "2015[20]\n",
      "1,826\n",
      "$7.1 trillion\n",
      "2014[69]\n",
      "1,645\n",
      "$6.4 trillion\n",
      "2013[70]\n",
      "1,426\n",
      "$5.4 trillion\n",
      "2012\n",
      "1,226\n",
      "$4.6 trillion\n",
      "2011\n",
      "1,210\n",
      "$4.5 trillion\n",
      "2010\n",
      "1,011\n",
      "$3.6 trillion\n",
      "2009\n",
      "793\n",
      "$2.4 trillion\n",
      "2008\n",
      "1,125\n",
      "$4.4 trillion\n",
      "2007\n",
      "946\n",
      "$3.5 trillion\n",
      "2006\n",
      "793\n",
      "$2.6 trillion\n",
      "2005\n",
      "691\n",
      "$2.2 trillion\n",
      "2004\n",
      "587\n",
      "$1.9 trillion\n",
      "2003\n",
      "476\n",
      "$1.4 trillion\n",
      "2002\n",
      "497\n",
      "$1.5 trillion\n",
      "2001\n",
      "538\n",
      "$1.8 trillion\n",
      "2000\n",
      "470\n",
      "$898 billion\n",
      "Sources: Forbes.[20][69][68][70]\n",
      "\u001b[0mINFO:google_genai.models:AFC is enabled with max remote calls: 10.\n",
      "AFC is enabled with max remote calls: 10.\n",
      "INFO:httpx:HTTP Request: POST https://generativelanguage.googleapis.com/v1beta/models/gemini-2.0-flash:generateContent \"HTTP/1.1 200 OK\"\n",
      "HTTP Request: POST https://generativelanguage.googleapis.com/v1beta/models/gemini-2.0-flash:generateContent \"HTTP/1.1 200 OK\"\n",
      "INFO:google_genai.models:AFC remote call 1 is done.\n",
      "AFC remote call 1 is done.\n"
     ]
    }
   ],
   "source": [
    "response = query_engine.query(\n",
    "    \"What's the net worth of 2025 billionaires?\"\n",
    ")"
   ]
  },
  {
   "cell_type": "code",
   "execution_count": 36,
   "id": "21cdd8a2",
   "metadata": {},
   "outputs": [
    {
     "data": {
      "text/plain": [
       "\"6/16/25, 12:50\\nThe World's Billionaires - Wikipedia\\nPage 34 of 43\\nhttps://en.wikipedia.org/wiki/The_World%27s_Billionaires\\nNumber and combined net worth of billionaires by year[68]\\nYear\\nNumber of billionaires\\nGroup's combined net worth\\n2025[2]\\n3,028\\n$16.1 trillion\\n2024[2]\\n2,781\\n$14.2 trillion\\n2023[8]\\n2,640\\n$12.2 trillion\\n2022[7]\\n2,668\\n$12.7 trillion\\n2021[13]\\n2,755\\n$13.1 trillion\\n2020\\n2,095\\n$8.0 trillion\\n2019\\n2,153\\n$8.7 trillion\\n2018\\n2,208\\n$9.1 trillion\\n2017\\n2,043\\n$7.7 trillion\\n2016\\n1,810\\n$6.5 trillion\\n2015[20]\\n1,826\\n$7.1 trillion\\n2014[69]\\n1,645\\n$6.4 trillion\\n2013[70]\\n1,426\\n$5.4 trillion\\n2012\\n1,226\\n$4.6 trillion\\n2011\\n1,210\\n$4.5 trillion\\n2010\\n1,011\\n$3.6 trillion\\n2009\\n793\\n$2.4 trillion\\n2008\\n1,125\\n$4.4 trillion\\n2007\\n946\\n$3.5 trillion\\n2006\\n793\\n$2.6 trillion\\n2005\\n691\\n$2.2 trillion\\n2004\\n587\\n$1.9 trillion\\n2003\\n476\\n$1.4 trillion\\n2002\\n497\\n$1.5 trillion\\n2001\\n538\\n$1.8 trillion\\n2000\\n470\\n$898 billion\\nSources: Forbes.[20][69][68][70]\""
      ]
     },
     "execution_count": 36,
     "metadata": {},
     "output_type": "execute_result"
    }
   ],
   "source": [
    "response.source_nodes[0].node.get_content()"
   ]
  },
  {
   "cell_type": "code",
   "execution_count": 37,
   "id": "706c8e5a",
   "metadata": {},
   "outputs": [
    {
     "data": {
      "text/plain": [
       "'The combined net worth of billionaires in 2025 is $16.1 trillion.\\n'"
      ]
     },
     "execution_count": 37,
     "metadata": {},
     "output_type": "execute_result"
    }
   ],
   "source": [
    "str(response)"
   ]
  }
 ],
 "metadata": {
  "kernelspec": {
   "display_name": "venv",
   "language": "python",
   "name": "python3"
  },
  "language_info": {
   "codemirror_mode": {
    "name": "ipython",
    "version": 3
   },
   "file_extension": ".py",
   "mimetype": "text/x-python",
   "name": "python",
   "nbconvert_exporter": "python",
   "pygments_lexer": "ipython3",
   "version": "3.13.5"
  }
 },
 "nbformat": 4,
 "nbformat_minor": 5
}
