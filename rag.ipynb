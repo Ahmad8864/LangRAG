{
 "cells": [
  {
   "cell_type": "code",
   "execution_count": 1,
   "id": "f907d7b8",
   "metadata": {},
   "outputs": [],
   "source": [
    "import getpass\n",
    "import os\n",
    "\n",
    "if not os.environ.get('GOOGLE_API_KEY'):\n",
    "    os.environ[\"GOOGLE_API_KEY\"] = getpass.getpass(\"Enter API key for Google Gemini: \")"
   ]
  },
  {
   "cell_type": "code",
   "execution_count": 2,
   "id": "867c1779",
   "metadata": {},
   "outputs": [],
   "source": [
    "from langchain.chat_models import init_chat_model\n",
    "from langchain_google_genai import GoogleGenerativeAIEmbeddings\n",
    "\n",
    "llm = init_chat_model(\"gemini-2.0-flash\", model_provider=\"google_genai\")\n",
    "embeddings = GoogleGenerativeAIEmbeddings(model='models/embedding-001')"
   ]
  },
  {
   "cell_type": "code",
   "execution_count": null,
   "id": "e19c1e08",
   "metadata": {},
   "outputs": [],
   "source": [
    "from langchain_postgres import PGVector\n",
    "\n",
    "connection = os.environ['POSTGRES_URL']\n",
    "collection_name = \"my_docs\"\n",
    "\n",
    "vector_store = PGVector(\n",
    "    embeddings=embeddings,\n",
    "    collection_name=collection_name,\n",
    "    connection=connection,\n",
    "    use_jsonb=True,\n",
    ")"
   ]
  },
  {
   "cell_type": "code",
   "execution_count": 4,
   "id": "fd6176f3",
   "metadata": {},
   "outputs": [
    {
     "name": "stderr",
     "output_type": "stream",
     "text": [
      "USER_AGENT environment variable not set, consider setting it to identify your requests.\n"
     ]
    }
   ],
   "source": [
    "import bs4\n",
    "from tqdm import tqdm\n",
    "import requests\n",
    "from langchain import hub\n",
    "from langchain_community.document_loaders import WebBaseLoader\n",
    "from langchain_core.documents import Document\n",
    "from langchain_text_splitters import RecursiveCharacterTextSplitter\n",
    "from langgraph.graph import START, StateGraph\n",
    "from typing_extensions import List, TypedDict"
   ]
  },
  {
   "cell_type": "code",
   "execution_count": 5,
   "id": "6b382a5c",
   "metadata": {},
   "outputs": [],
   "source": [
    "url = \"https://www.ams.usda.gov/selling-food/product-specs\"\n",
    "source = requests.get(url)\n",
    "soup = bs4.BeautifulSoup(source.text, \"html.parser\")"
   ]
  },
  {
   "cell_type": "code",
   "execution_count": 6,
   "id": "bcc3f108",
   "metadata": {},
   "outputs": [
    {
     "data": {
      "text/plain": [
       "['/sites/default/files/media/qasp.pdf',\n",
       " '/sites/default/files/media/AnimalHandlingandWelfareApril2025.pdf',\n",
       " '/sites/default/files/media/FPPS_AHW_November2020.pdf',\n",
       " '/sites/default/files/media/BJENYKosherResource.pdf',\n",
       " '/sites/default/files/media/CommoditySpecificationforCannedFruitJune2023_0.pdf',\n",
       " '/sites/default/files/media/CommoditySpecificationforCannedFruitAugust2021.pdf',\n",
       " '/sites/default/files/media/Commodity_Specification_for_Canned_Fruit_May_2021.pdf',\n",
       " '/sites/default/files/media/Amendment_1_to_the_Commodity_Specification_for_Canned_Fruit_June_2021.pdf',\n",
       " '/sites/default/files/media/CommoditySpecificationforCannedFruitMarch2020.pdf',\n",
       " '/sites/default/files/media/CommoditySpecificationforCannedFruitMarch2019.pdf',\n",
       " '/sites/default/files/media/CommoditySpecificationforFrozenFruitFebruary2022.pdf',\n",
       " '/sites/default/files/media/CommoditySpecificationsforFrozenFruitApril2020.pdf',\n",
       " '/sites/default/files/media/FinalSection32SpecificationforMandarinOrangesandTangerines.pdf',\n",
       " '/sites/default/files/media/CommoditySpecificationforFreshCitrusAugust2019.pdf',\n",
       " '/sites/default/files/media/USDAPurchaseSpecificationforTableGrapesFebruary2020.pdf',\n",
       " '/sites/default/files/media/CommoditySpecificationforFreshFruitJuly2019.pdf',\n",
       " '/sites/default/files/media/CommoditySpecificationforStoneFruitsApril2022.pdf',\n",
       " '/sites/default/files/media/CommoditySpecificationforDriedFruitJanuary2021.pdf',\n",
       " '/sites/default/files/media/Section_32_Specification_for_Dried_Sweet_Cherries_February_2021.pdf',\n",
       " '/sites/default/files/media/Amendment2_DriedFruit_Apricots.pdf',\n",
       " '/sites/default/files/media/CommoditySpecificationforDriedFruitApril2020.pdf',\n",
       " '/sites/default/files/media/CommoditySpecificationforCannedVegetablesJanuary2023.pdf',\n",
       " '/sites/default/files/media/Commodity_Specification_for_Canned_Vegetables_April_2021.pdf',\n",
       " '/sites/default/files/media/CommoditySpecificationforCannedVegetablesMarch2020.pdf',\n",
       " '/sites/default/files/media/CommoditySpecificationforCannedVegetablesJanuary2020.pdf',\n",
       " '/sites/default/files/media/CannedVegetablesAmendment1February2020.pdf',\n",
       " '/sites/default/files/media/CommoditySpecificationforFrozenBlackBeanBurgerPattiesDecember2024.pdf',\n",
       " '/sites/default/files/media/CommoditySpecificationforFrozenStirFryVegetableBlend%28Broccoli%2CCarrots%2CGreen%20Beans%29September2023.pdf',\n",
       " '/sites/default/files/media/Commodity_Specification_for_Frozen_Vegetables_March_2022.pdf',\n",
       " '/sites/default/files/media/CommoditySpecificationforFrozenVegetablesMarch2020.pdf',\n",
       " '/sites/default/files/media/CommoditySpecificationforFreshVegetablesMay2019.pdf',\n",
       " '/sites/default/files/media/Section32PurchaseSpecificationforFreshTomatoes.pdf',\n",
       " '/sites/default/files/media/Commodity_Specification_for_Dehydrated_Potato_Products_July_2021.pdf',\n",
       " '/sites/default/files/media/CommoditySpecificationforDehydratedPotatoProducts.pdf',\n",
       " '/sites/default/files/media/Final_Amendment_1_Dehydrated_Potato_Products.pdf',\n",
       " '/sites/default/files/media/CommoditySpecificationforFrozenPotatoProductsDecember2021.pdf',\n",
       " '/sites/default/files/media/CommoditySpecificationforFrozenPotatoProductsJune2020.pdf',\n",
       " '/sites/default/files/media/CommoditySpecificationforBulkProductsforFurtherProcessingJune2022.pdf',\n",
       " '/sites/default/files/media/CommoditySpecificationforBulkProductsforFurtherProcessingApril2020.pdf',\n",
       " '/sites/default/files/media/Commodity_Specification_for_Canned_Soups_July_2021.pdf',\n",
       " '/sites/default/files/media/CommoditySpecificationforCannedSoupsMarch2020.pdf',\n",
       " '/sites/default/files/media/CommoditySpecificationforFrozenFruitJuicesNovember2024.pdf',\n",
       " '/sites/default/files/media/CommoditySpecificationforFrozenFruitJuicesDecember2021.pdf',\n",
       " '/sites/default/files/media/CommoditySpecificationFrozenFruitJuicesApril2020.pdf',\n",
       " '/sites/default/files/media/CommoditySpecificationforBottledJuicesDecember2021.pdf',\n",
       " '/sites/default/files/media/CommoditySpecificationBottledJuicesApril2020.pdf',\n",
       " '/sites/default/files/media/CommoditySpecificationforConcentratedFruitJuicesforManufacturing.pdf',\n",
       " '/sites/default/files/media/CommoditySpecificationforCannedDriedBeansAugust2021.pdf',\n",
       " '/sites/default/files/media/Commodity_Specification_for_Canned_Dried_Beans_May_2021.pdf',\n",
       " '/sites/default/files/media/CommoditySpecificationforCannedDriedBeansMarch2020.pdf',\n",
       " '/sites/default/files/media/CommoditySpecificationforDryEdibleBeansPeasandLentilsJuly2023.pdf',\n",
       " '/sites/default/files/media/CommoditySpecificationforDryEdibleBeansPeasandLentilsAugust2021.pdf',\n",
       " '/sites/default/files/media/CommoditySpecificationforShelledTreeNutsApril2020.pdf',\n",
       " '/sites/default/files/media/Section32SpecificationforWholeShelledAlmondsAugust2022.pdf',\n",
       " '/sites/default/files/media/TradeMitigationSpecificationforFilbertHazelnutKernels.pdf',\n",
       " '/sites/default/files/media/TMSpecificationforInShellPistachiosandShelledPecans.pdf',\n",
       " '/sites/default/files/media/Supplement210BeefRoundRoastDicedJuly2024.pdf',\n",
       " '/sites/default/files/media/Supplement210BeefRoast-DicedBeef2022.pdf',\n",
       " '/sites/default/files/media/Final%20-%20Supplement%20211%20Ground%20Beef%20Items%20-%20May%202025.pdf',\n",
       " '/sites/default/files/media/Supplement211GroundBeefItemsMarch2023.pdf',\n",
       " '/sites/default/files/media/Final-%20Supplement%20212%20Boneless%20Beef%20-%20%20May%202025.pdf',\n",
       " '/sites/default/files/media/Supplement212BonelessBeefforFurtherProcessingFeb2023.pdf',\n",
       " '/sites/default/files/media/Final%20-%20Supplement%20213%20Beef%20Special%20Trim%20-%20May%202025.pdf',\n",
       " '/sites/default/files/media/Supplement213BeefSpecialTrimJuly2022.pdf',\n",
       " '/sites/default/files/media/Supplement302FrozenPorkPicnicsandLegRoastAugust2017.pdf',\n",
       " '/sites/default/files/media/Supplement303HamProducts2022.pdf',\n",
       " '/sites/default/files/media/Supplement303HamProducts70821.pdf',\n",
       " '/sites/default/files/media/Supplement304FrozenPorkChopsAugust2017.pdf',\n",
       " '/sites/default/files/media/FPPSPorkLoinRoastBonelessFrozenNovember2018.pdf',\n",
       " '/sites/default/files/media/Supplement512FishandFisheryProductsOctober2024.pdf',\n",
       " '/sites/default/files/media/FPPSPacificSeafoodItemsFrozenJuly2022.pdf',\n",
       " '/sites/default/files/media/FPPSWildShrimpFrozenNovember2022.pdf',\n",
       " '/sites/default/files/media/FPPSAtlanticGroundfishFilletPortionsFrozenJuly2020.pdf',\n",
       " '/sites/default/files/media/FPPSWalleyeFilletsFrozenDecember2020.pdf',\n",
       " '/sites/default/files/media/FinalSupplement500TunaProductsAugust2024.pdf',\n",
       " '/sites/default/files/media/Supplement507_SalmonProducts_November2024.pdf',\n",
       " '/sites/default/files/media/Supplement%20507%20Salmon%20Products%20--%20June%202021.pdf',\n",
       " '/sites/default/files/media/Supplement509AlaskaPollockProductsNovember2024_0.pdf',\n",
       " '/sites/default/files/media/Supplement509AlaskaPollockProductsApril2024.pdf',\n",
       " '/sites/default/files/media/Supplement511CatfishProducts_July2024.pdf',\n",
       " '/sites/default/files/media/Supplement404CookedBeefandPorkProductsAug22.pdf',\n",
       " '/sites/default/files/media/Supplement602LambProductsNovember2022.pdf',\n",
       " '/sites/default/files/media/Supplement603FrozenBisonItemsMarch2023.pdf',\n",
       " '/sites/default/files/media/FrozenBisonSpecification_March_2021.pdf',\n",
       " '/sites/default/files/media/Supplement704CannedMeatAug22.pdf',\n",
       " '/sites/default/files/media/SupplementforChickenProductsDecember2024.pdf',\n",
       " '/sites/default/files/media/FPPSConsumerPackChickenAugust2024.pdf',\n",
       " '/sites/default/files/media/FPPSConsumerPackChickenApril2023.pdf',\n",
       " '/sites/default/files/media/FPPSConsumerPackChicken073018.pdf',\n",
       " '/sites/default/files/media/FPPSBulkPackChickenandchickenlegDec2022.pdf',\n",
       " '/sites/default/files/media/FPPSBulkChickenandChickenParts102220.pdf',\n",
       " '/sites/default/files/media/FPPSChickenPartsFinal03212024.pdf',\n",
       " '/sites/default/files/media/FrozenChickenParts_Specification_February_2021.pdf',\n",
       " '/sites/default/files/media/FPPS_PulledChickenFullyCookedFrozen.pdf',\n",
       " '/sites/default/files/media/FPPSChickenStripsJune2023.pdf',\n",
       " '/sites/default/files/media/FPPSChickenStripsMarch2017.pdf',\n",
       " '/sites/default/files/media/FPPSGrilledChickenBreastNovember2023.pdf',\n",
       " '/sites/default/files/media/FPPSChickenFilletFinal092319.pdf',\n",
       " '/sites/default/files/media/DraftFPPSOvenRoastedChickenFinalApril2024.pdf',\n",
       " '/sites/default/files/media/FederalPurchaseProgramSpecificationforOvenRoastedChickenJuly2017.pdf',\n",
       " '/sites/default/files/media/FPPSDicedChicken081822.pdf',\n",
       " '/sites/default/files/media/FederalPurchaseProgramSpecificationforDicedChickenAugust2017.pdf',\n",
       " '/sites/default/files/media/FederalPurchaseProgramSpecificationforCookedChickenFajitaStripsMarch2023.pdf',\n",
       " '/sites/default/files/media/FPPS%20-%20Chicken%20Fajita%20Strips%2004-22-16.pdf',\n",
       " '/sites/default/files/media/FPPSCannedBonedChickenWhiteMeat.pdf',\n",
       " '/sites/default/files/media/OptionsLanguageforTurkeyProductsAugust2024.pdf',\n",
       " '/sites/default/files/media/FPPSBulkBonelesSkinlessTurkeyThighs9272018.pdf',\n",
       " '/sites/default/files/media/FPPSTurkeyTurkeyProducts073118.pdf',\n",
       " '/sites/default/files/media/FPPSTurkeyTacoFilling.pdf',\n",
       " '/sites/default/files/media/Final%20FPPS%20-Smoked%20Turkey%20Ham%20Products%20-%20March%202025.pdf',\n",
       " '/sites/default/files/media/SmokedTurkeyHamProductsAugust2024.pdf',\n",
       " '/sites/default/files/media/Final%20FPPS%20-%20Deli%20Style%20Turkey%20Breast%20-%20March%202025.pdf',\n",
       " '/sites/default/files/media/FPPSDeliStyleTurkeyBreast04062020.pdf',\n",
       " '/sites/default/files/media/FPPSCookedWholeMuscleTurkeyBreast2022.pdf',\n",
       " '/sites/default/files/media/FederalPurchaseProgramSpecificationforShellEggsApril2017.pdf',\n",
       " '/sites/default/files/media/SupplementEggProducts.pdf',\n",
       " '/sites/default/files/media/FPPSHardCookedEgg.pdf',\n",
       " '/sites/default/files/media/FPPSEggPatty.pdf',\n",
       " '/sites/default/files/media/FPPSEggPattyFINAL.pdf',\n",
       " '/sites/default/files/media/FPPSWholeEggs.pdf',\n",
       " '/sites/default/files/media/FPPSAllPurposeEggMix.pdf',\n",
       " '/sites/default/files/media/Bakery%20Flour%20Mix%20CRD%20effective%2004-01-2016.pdf',\n",
       " '/sites/default/files/media/Final_CRD_CornProducts_June_2021.pdf',\n",
       " '/sites/default/files/media/CrackerProductsSpecification.pdf',\n",
       " '/sites/default/files/media/FortifiedRTECerealProducts20190222.pdf',\n",
       " '/sites/default/files/media/Frozen_Pancakes_CRD_March_2025.pdf',\n",
       " '/sites/default/files/media/PAN2%20CRD%204-15-16.pdf',\n",
       " '/sites/default/files/media/Frozen_Tortillas_CRD_May_2025.pdf',\n",
       " '/sites/default/files/media/FINAL%20TOR1%20CRD%2004-15-16.pdf',\n",
       " '/sites/default/files/media/MacaroniandCheeseCRDOctober2019.pdf',\n",
       " '/sites/default/files/media/PastaProductsandEggNoodlesCRDJune2025.pdf',\n",
       " '/sites/default/files/media/Final%20updated%20CRD%20Pasta.pdf',\n",
       " '/sites/default/files/media/ProcessedCerealsSpecificationNovember2023.pdf',\n",
       " '/sites/default/files/media/PC14ProcessedCerealsSpec.pdf',\n",
       " '/sites/default/files/media/PP16CommodityRequirements.pdf',\n",
       " '/sites/default/files/media/RiceProductsRP6October2019.pdf',\n",
       " '/sites/default/files/media/SunflowerSeedButterSSB7.pdf',\n",
       " '/sites/default/files/media/VegetableOilProductsJuly2023.pdf',\n",
       " '/sites/default/files/media/CommoditySpecificationforExtraVirginOliveOilMarch2024.pdf',\n",
       " '/sites/default/files/media/WheatFlourandBakeryFlourProductsCRDSeptember2023.pdf',\n",
       " '/sites/default/files/media/WheatFlourandBakeryFlourProductsCRDJuly2021.pdf',\n",
       " '/sites/default/files/media/WildRiceCommodityRequirementsDocument%28WR2%29%20effective%2007-28-2016.pdf',\n",
       " '/sites/default/files/media/Evaporated%20Milk%20%28EVD4%29%20effective%20Jul%2029%2C%202013.pdf',\n",
       " '/sites/default/files/media/Instant%20Nonfat%20Dry%20Milk%20%28IMD4%29%20effective%20Aug%208%2C%202013.pdf',\n",
       " '/sites/default/files/media/DFM2FluidMilkSpec20181115.pdf',\n",
       " '/sites/default/files/media/Mozzarella_Cheese_CRD_April_2025.pdf',\n",
       " '/sites/default/files/media/MozzarellaCheeseCRDAugust2024.pdf',\n",
       " '/sites/default/files/media/DMOZ7MozzarellaCheeseCRDSeptember2019.pdf',\n",
       " '/sites/default/files/media/FINALDNAC6NaturalAmericanCheeseSpec2019_09.pdf',\n",
       " '/sites/default/files/media/NaturalPepperJackCheeseCRDJanuary2020.pdf',\n",
       " '/sites/default/files/media/PackagedButterMarch2022.pdf',\n",
       " '/sites/default/files/media/PasteurizedProcessAmericanCheeseandKosherCertifiedProcessCheeseProductMay2023.pdf',\n",
       " '/sites/default/files/media/FINALDPPC5PasteurizedProcessAmericanCheeseSpec092019.pdf',\n",
       " '/sites/default/files/media/SwissCheeseCRDAugust2022.pdf',\n",
       " '/sites/default/files/media/SwissCheeseCRDAugust2020.pdf',\n",
       " '/sites/default/files/media/UltraHighTemperatureMilkCRDFebruary2021.pdf',\n",
       " '/sites/default/files/media/YogurtProductsCRD_November2024.pdf',\n",
       " '/sites/default/files/media/YogurtProductsCRDOctober2020.pdf']"
      ]
     },
     "execution_count": 6,
     "metadata": {},
     "output_type": "execute_result"
    }
   ],
   "source": [
    "vegetable_pdfs = [\n",
    "    tag.get('href') for tag in soup.find_all(\"a\")\n",
    "    if tag.get('href', '').endswith('.pdf')\n",
    "]\n",
    "vegetable_pdfs"
   ]
  },
  {
   "cell_type": "code",
   "execution_count": 7,
   "id": "9adf2acd",
   "metadata": {},
   "outputs": [
    {
     "name": "stderr",
     "output_type": "stream",
     "text": [
      "100%|██████████| 158/158 [05:45<00:00,  2.19s/it]\n"
     ]
    }
   ],
   "source": [
    "from langchain_community.document_loaders import PyPDFLoader\n",
    "\n",
    "text_splitter = RecursiveCharacterTextSplitter(\n",
    "    chunk_size=1000, \n",
    "    chunk_overlap=200\n",
    ")\n",
    "\n",
    "for subdomain in tqdm(vegetable_pdfs):\n",
    "    pages = []\n",
    "    url = f\"https://www.ams.usda.gov/{subdomain}\"\n",
    "    loader = PyPDFLoader(url)\n",
    "    async for page in loader.alazy_load():\n",
    "        pages.append(page)\n",
    "    \n",
    "    splits = text_splitter.split_documents(pages)\n",
    "    \n",
    "    _ = vector_store.add_documents(documents = splits)"
   ]
  },
  {
   "cell_type": "code",
   "execution_count": 8,
   "id": "7ac4f7f9",
   "metadata": {},
   "outputs": [],
   "source": [
    "prompt = hub.pull(\n",
    "    \"rlm/rag-prompt\",\n",
    "    api_url = \"https://api.smith.langchain.com\",\n",
    ")"
   ]
  },
  {
   "cell_type": "code",
   "execution_count": 9,
   "id": "9886ff6c",
   "metadata": {},
   "outputs": [],
   "source": [
    "class State(TypedDict):\n",
    "    question: str\n",
    "    context: List[Document]\n",
    "    answer: str\n",
    "\n",
    "def retrieve(state: State):\n",
    "    retrieved_docs = vector_store.similarity_search(state['question'])\n",
    "    return {\"context\": retrieved_docs}\n",
    "\n",
    "def generate(state: State):\n",
    "    docs_content = \"\\n\\n\".join(doc.page_content for doc in state['context'])\n",
    "    messages = prompt.invoke({\n",
    "        'question': state['question'],\n",
    "        'context': docs_content\n",
    "    })\n",
    "    response = llm.invoke(messages)\n",
    "    return {'answer': response.content}"
   ]
  },
  {
   "cell_type": "code",
   "execution_count": 10,
   "id": "e2767a00",
   "metadata": {},
   "outputs": [],
   "source": [
    "graph_builder = StateGraph(State).add_sequence([retrieve, generate])\n",
    "graph_builder.add_edge(START, \"retrieve\")\n",
    "graph = graph_builder.compile()"
   ]
  },
  {
   "cell_type": "code",
   "execution_count": 17,
   "id": "a442cf6f",
   "metadata": {},
   "outputs": [
    {
     "name": "stdout",
     "output_type": "stream",
     "text": [
      "Enter your agricultural tech specification question:\n"
     ]
    },
    {
     "data": {
      "text/markdown": [
       "**Answer:**\n",
       "\n",
       "Shell egg packaging must use clean, new materials without objectionable odors. The packing materials must be tamper-evident and withstand humidity, temperature, handling, shipping, stacking, and storage. Final closure of fiberboard shipping containers requires a secure, tamper-evident seal using specified tapes applicable to refrigerated temperatures."
      ],
      "text/plain": [
       "<IPython.core.display.Markdown object>"
      ]
     },
     "metadata": {},
     "output_type": "display_data"
    }
   ],
   "source": [
    "from IPython.display import display, Markdown\n",
    "\n",
    "print(\"Enter your agricultural tech specification question:\")\n",
    "question = input(\"Question: \")\n",
    "response = graph.invoke({\"question\": question})\n",
    "display(Markdown(f\"**Answer:**\\n\\n{response['answer']}\"))"
   ]
  }
 ],
 "metadata": {
  "kernelspec": {
   "display_name": "venv",
   "language": "python",
   "name": "python3"
  },
  "language_info": {
   "codemirror_mode": {
    "name": "ipython",
    "version": 3
   },
   "file_extension": ".py",
   "mimetype": "text/x-python",
   "name": "python",
   "nbconvert_exporter": "python",
   "pygments_lexer": "ipython3",
   "version": "3.13.5"
  }
 },
 "nbformat": 4,
 "nbformat_minor": 5
}
